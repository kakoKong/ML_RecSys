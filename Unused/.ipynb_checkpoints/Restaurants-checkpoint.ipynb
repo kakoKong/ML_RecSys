{
 "cells": [
  {
   "cell_type": "code",
   "execution_count": 2,
   "id": "c252cf35",
   "metadata": {},
   "outputs": [],
   "source": [
    "import pandas as pd\n",
    "import numpy as np\n",
    "import math"
   ]
  },
  {
   "cell_type": "code",
   "execution_count": 4,
   "id": "daf52bcc",
   "metadata": {},
   "outputs": [],
   "source": [
    "restaurants = pd.read_csv('../data/TA_restaurants_curated.csv', engine='python');\n",
    "restaurants = restaurants.drop(columns = ['ID_TA', 'Ranking', 'Unnamed: 0'])\n",
    "features = restaurants.columns.values"
   ]
  },
  {
   "cell_type": "code",
   "execution_count": 5,
   "id": "8cf4368f",
   "metadata": {},
   "outputs": [],
   "source": [
    "price = restaurants['Price Range']"
   ]
  },
  {
   "cell_type": "code",
   "execution_count": 6,
   "id": "bd68b9f2",
   "metadata": {},
   "outputs": [],
   "source": [
    "restaurants['Price Range'] = restaurants['Price Range'].replace('$$$$', 3)\n",
    "restaurants['Price Range'] = restaurants['Price Range'].replace('$$ - $$$', 2)\n",
    "restaurants['Price Range'] = restaurants['Price Range'].replace('$', 1)"
   ]
  },
  {
   "cell_type": "code",
   "execution_count": 7,
   "id": "7eb2d8c7",
   "metadata": {},
   "outputs": [
    {
     "data": {
      "text/html": [
       "<div>\n",
       "<style scoped>\n",
       "    .dataframe tbody tr th:only-of-type {\n",
       "        vertical-align: middle;\n",
       "    }\n",
       "\n",
       "    .dataframe tbody tr th {\n",
       "        vertical-align: top;\n",
       "    }\n",
       "\n",
       "    .dataframe thead th {\n",
       "        text-align: right;\n",
       "    }\n",
       "</style>\n",
       "<table border=\"1\" class=\"dataframe\">\n",
       "  <thead>\n",
       "    <tr style=\"text-align: right;\">\n",
       "      <th></th>\n",
       "      <th>Name</th>\n",
       "      <th>City</th>\n",
       "      <th>Cuisine Style</th>\n",
       "      <th>Rating</th>\n",
       "      <th>Price Range</th>\n",
       "      <th>Number of Reviews</th>\n",
       "      <th>Reviews</th>\n",
       "      <th>URL_TA</th>\n",
       "    </tr>\n",
       "  </thead>\n",
       "  <tbody>\n",
       "    <tr>\n",
       "      <th>0</th>\n",
       "      <td>Martine of Martine's Table</td>\n",
       "      <td>Amsterdam</td>\n",
       "      <td>['French', 'Dutch', 'European']</td>\n",
       "      <td>5.0</td>\n",
       "      <td>2.0</td>\n",
       "      <td>136.0</td>\n",
       "      <td>[['Just like home', 'A Warm Welcome to Wintry ...</td>\n",
       "      <td>/Restaurant_Review-g188590-d11752080-Reviews-M...</td>\n",
       "    </tr>\n",
       "    <tr>\n",
       "      <th>1</th>\n",
       "      <td>De Silveren Spiegel</td>\n",
       "      <td>Amsterdam</td>\n",
       "      <td>['Dutch', 'European', 'Vegetarian Friendly', '...</td>\n",
       "      <td>4.5</td>\n",
       "      <td>3.0</td>\n",
       "      <td>812.0</td>\n",
       "      <td>[['Great food and staff', 'just perfect'], ['0...</td>\n",
       "      <td>/Restaurant_Review-g188590-d693419-Reviews-De_...</td>\n",
       "    </tr>\n",
       "    <tr>\n",
       "      <th>2</th>\n",
       "      <td>La Rive</td>\n",
       "      <td>Amsterdam</td>\n",
       "      <td>['Mediterranean', 'French', 'International', '...</td>\n",
       "      <td>4.5</td>\n",
       "      <td>3.0</td>\n",
       "      <td>567.0</td>\n",
       "      <td>[['Satisfaction', 'Delicious old school restau...</td>\n",
       "      <td>/Restaurant_Review-g188590-d696959-Reviews-La_...</td>\n",
       "    </tr>\n",
       "    <tr>\n",
       "      <th>3</th>\n",
       "      <td>Vinkeles</td>\n",
       "      <td>Amsterdam</td>\n",
       "      <td>['French', 'European', 'International', 'Conte...</td>\n",
       "      <td>5.0</td>\n",
       "      <td>3.0</td>\n",
       "      <td>564.0</td>\n",
       "      <td>[['True five star dinner', 'A superb evening o...</td>\n",
       "      <td>/Restaurant_Review-g188590-d1239229-Reviews-Vi...</td>\n",
       "    </tr>\n",
       "    <tr>\n",
       "      <th>4</th>\n",
       "      <td>Librije's Zusje Amsterdam</td>\n",
       "      <td>Amsterdam</td>\n",
       "      <td>['Dutch', 'European', 'International', 'Vegeta...</td>\n",
       "      <td>4.5</td>\n",
       "      <td>3.0</td>\n",
       "      <td>316.0</td>\n",
       "      <td>[['Best meal.... EVER', 'super food experience...</td>\n",
       "      <td>/Restaurant_Review-g188590-d6864170-Reviews-Li...</td>\n",
       "    </tr>\n",
       "  </tbody>\n",
       "</table>\n",
       "</div>"
      ],
      "text/plain": [
       "                         Name       City  \\\n",
       "0  Martine of Martine's Table  Amsterdam   \n",
       "1         De Silveren Spiegel  Amsterdam   \n",
       "2                     La Rive  Amsterdam   \n",
       "3                    Vinkeles  Amsterdam   \n",
       "4   Librije's Zusje Amsterdam  Amsterdam   \n",
       "\n",
       "                                       Cuisine Style  Rating  Price Range  \\\n",
       "0                    ['French', 'Dutch', 'European']     5.0          2.0   \n",
       "1  ['Dutch', 'European', 'Vegetarian Friendly', '...     4.5          3.0   \n",
       "2  ['Mediterranean', 'French', 'International', '...     4.5          3.0   \n",
       "3  ['French', 'European', 'International', 'Conte...     5.0          3.0   \n",
       "4  ['Dutch', 'European', 'International', 'Vegeta...     4.5          3.0   \n",
       "\n",
       "   Number of Reviews                                            Reviews  \\\n",
       "0              136.0  [['Just like home', 'A Warm Welcome to Wintry ...   \n",
       "1              812.0  [['Great food and staff', 'just perfect'], ['0...   \n",
       "2              567.0  [['Satisfaction', 'Delicious old school restau...   \n",
       "3              564.0  [['True five star dinner', 'A superb evening o...   \n",
       "4              316.0  [['Best meal.... EVER', 'super food experience...   \n",
       "\n",
       "                                              URL_TA  \n",
       "0  /Restaurant_Review-g188590-d11752080-Reviews-M...  \n",
       "1  /Restaurant_Review-g188590-d693419-Reviews-De_...  \n",
       "2  /Restaurant_Review-g188590-d696959-Reviews-La_...  \n",
       "3  /Restaurant_Review-g188590-d1239229-Reviews-Vi...  \n",
       "4  /Restaurant_Review-g188590-d6864170-Reviews-Li...  "
      ]
     },
     "execution_count": 7,
     "metadata": {},
     "output_type": "execute_result"
    }
   ],
   "source": [
    "restaurants.head()"
   ]
  },
  {
   "cell_type": "code",
   "execution_count": 8,
   "id": "eebda0f3",
   "metadata": {},
   "outputs": [],
   "source": [
    "cities = restaurants['City'].unique()"
   ]
  },
  {
   "cell_type": "code",
   "execution_count": 9,
   "id": "572fe97f",
   "metadata": {},
   "outputs": [
    {
     "name": "stdout",
     "output_type": "stream",
     "text": [
      "(125527, 8)\n"
     ]
    }
   ],
   "source": [
    "cities\n",
    "print(restaurants.shape)"
   ]
  },
  {
   "cell_type": "code",
   "execution_count": 10,
   "id": "19a41c8e",
   "metadata": {},
   "outputs": [
    {
     "name": "stdout",
     "output_type": "stream",
     "text": [
      "(18212, 8) ['Name' 'City' 'Cuisine Style' 'Rating' 'Price Range' 'Number of Reviews'\n",
      " 'Reviews' 'URL_TA']\n"
     ]
    }
   ],
   "source": [
    "London = restaurants.loc[restaurants['City'] == 'London']\n",
    "print(London.shape, London.columns.values)"
   ]
  },
  {
   "cell_type": "code",
   "execution_count": 11,
   "id": "4c5d1549",
   "metadata": {},
   "outputs": [],
   "source": [
    "LdnData = London.drop(columns = ['City', 'URL_TA'])"
   ]
  },
  {
   "cell_type": "code",
   "execution_count": 12,
   "id": "9fde8f35",
   "metadata": {},
   "outputs": [],
   "source": [
    "LdnData = LdnData.sort_values(by=['Price Range', 'Number of Reviews'], ascending=False);"
   ]
  },
  {
   "cell_type": "code",
   "execution_count": 13,
   "id": "4799b8f1",
   "metadata": {},
   "outputs": [
    {
     "data": {
      "text/html": [
       "<div>\n",
       "<style scoped>\n",
       "    .dataframe tbody tr th:only-of-type {\n",
       "        vertical-align: middle;\n",
       "    }\n",
       "\n",
       "    .dataframe tbody tr th {\n",
       "        vertical-align: top;\n",
       "    }\n",
       "\n",
       "    .dataframe thead th {\n",
       "        text-align: right;\n",
       "    }\n",
       "</style>\n",
       "<table border=\"1\" class=\"dataframe\">\n",
       "  <thead>\n",
       "    <tr style=\"text-align: right;\">\n",
       "      <th></th>\n",
       "      <th>Name</th>\n",
       "      <th>Cuisine Style</th>\n",
       "      <th>Rating</th>\n",
       "      <th>Price Range</th>\n",
       "      <th>Number of Reviews</th>\n",
       "      <th>Reviews</th>\n",
       "    </tr>\n",
       "  </thead>\n",
       "  <tbody>\n",
       "    <tr>\n",
       "      <th>46329</th>\n",
       "      <td>Aqua Shard</td>\n",
       "      <td>['European', 'British', 'Contemporary', 'Veget...</td>\n",
       "      <td>4.0</td>\n",
       "      <td>3.0</td>\n",
       "      <td>12910.0</td>\n",
       "      <td>[['Lunch at the Aqua', 'Elegant and vibrant re...</td>\n",
       "    </tr>\n",
       "    <tr>\n",
       "      <th>45955</th>\n",
       "      <td>London Steakhouse Co.</td>\n",
       "      <td>['British', 'Vegetarian Friendly', 'Gluten Fre...</td>\n",
       "      <td>4.0</td>\n",
       "      <td>3.0</td>\n",
       "      <td>9660.0</td>\n",
       "      <td>[['Lovely setting and decent food', 'A Christm...</td>\n",
       "    </tr>\n",
       "    <tr>\n",
       "      <th>45945</th>\n",
       "      <td>Oxo Tower Restaurant, Bar and Brasserie</td>\n",
       "      <td>['British', 'Vegetarian Friendly', 'Vegan Opti...</td>\n",
       "      <td>4.5</td>\n",
       "      <td>3.0</td>\n",
       "      <td>7794.0</td>\n",
       "      <td>[['British Cuisine at its best!', 'Beautiful v...</td>\n",
       "    </tr>\n",
       "    <tr>\n",
       "      <th>46020</th>\n",
       "      <td>The Wolseley</td>\n",
       "      <td>['European', 'British', 'Vegetarian Friendly',...</td>\n",
       "      <td>4.0</td>\n",
       "      <td>3.0</td>\n",
       "      <td>6275.0</td>\n",
       "      <td>[['A nice way to spend an afternoon', 'The Wos...</td>\n",
       "    </tr>\n",
       "    <tr>\n",
       "      <th>46139</th>\n",
       "      <td>Hutong</td>\n",
       "      <td>['Chinese', 'Asian', 'Vegetarian Friendly', 'V...</td>\n",
       "      <td>4.0</td>\n",
       "      <td>3.0</td>\n",
       "      <td>5216.0</td>\n",
       "      <td>[['You go for the view and are surprised by t....</td>\n",
       "    </tr>\n",
       "  </tbody>\n",
       "</table>\n",
       "</div>"
      ],
      "text/plain": [
       "                                          Name  \\\n",
       "46329                               Aqua Shard   \n",
       "45955                    London Steakhouse Co.   \n",
       "45945  Oxo Tower Restaurant, Bar and Brasserie   \n",
       "46020                             The Wolseley   \n",
       "46139                                   Hutong   \n",
       "\n",
       "                                           Cuisine Style  Rating  Price Range  \\\n",
       "46329  ['European', 'British', 'Contemporary', 'Veget...     4.0          3.0   \n",
       "45955  ['British', 'Vegetarian Friendly', 'Gluten Fre...     4.0          3.0   \n",
       "45945  ['British', 'Vegetarian Friendly', 'Vegan Opti...     4.5          3.0   \n",
       "46020  ['European', 'British', 'Vegetarian Friendly',...     4.0          3.0   \n",
       "46139  ['Chinese', 'Asian', 'Vegetarian Friendly', 'V...     4.0          3.0   \n",
       "\n",
       "       Number of Reviews                                            Reviews  \n",
       "46329            12910.0  [['Lunch at the Aqua', 'Elegant and vibrant re...  \n",
       "45955             9660.0  [['Lovely setting and decent food', 'A Christm...  \n",
       "45945             7794.0  [['British Cuisine at its best!', 'Beautiful v...  \n",
       "46020             6275.0  [['A nice way to spend an afternoon', 'The Wos...  \n",
       "46139             5216.0  [['You go for the view and are surprised by t....  "
      ]
     },
     "execution_count": 13,
     "metadata": {},
     "output_type": "execute_result"
    }
   ],
   "source": [
    "LdnData.head()"
   ]
  },
  {
   "cell_type": "code",
   "execution_count": 14,
   "id": "20f6037d",
   "metadata": {},
   "outputs": [
    {
     "data": {
      "text/plain": [
       "(18212, 6)"
      ]
     },
     "execution_count": 14,
     "metadata": {},
     "output_type": "execute_result"
    }
   ],
   "source": [
    "LdnData.shape"
   ]
  },
  {
   "cell_type": "code",
   "execution_count": 15,
   "id": "4847b9bb",
   "metadata": {},
   "outputs": [],
   "source": [
    "style = LdnData['Cuisine Style']"
   ]
  },
  {
   "cell_type": "code",
   "execution_count": 21,
   "id": "2f2ea27d",
   "metadata": {},
   "outputs": [
    {
     "data": {
      "text/plain": [
       "\"[['British Cuisine at its best!', 'Beautiful views and excellent customer ser...'], ['01/08/2018', '01/07/2018']]\""
      ]
     },
     "execution_count": 21,
     "metadata": {},
     "output_type": "execute_result"
    }
   ],
   "source": [
    "LdnData['Reviews'].iloc[2]"
   ]
  },
  {
   "cell_type": "code",
   "execution_count": null,
   "id": "19bc6b7e",
   "metadata": {},
   "outputs": [],
   "source": []
  }
 ],
 "metadata": {
  "kernelspec": {
   "display_name": "Python 3 (ipykernel)",
   "language": "python",
   "name": "python3"
  },
  "language_info": {
   "codemirror_mode": {
    "name": "ipython",
    "version": 3
   },
   "file_extension": ".py",
   "mimetype": "text/x-python",
   "name": "python",
   "nbconvert_exporter": "python",
   "pygments_lexer": "ipython3",
   "version": "3.7.8"
  }
 },
 "nbformat": 4,
 "nbformat_minor": 5
}
