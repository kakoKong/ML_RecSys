{
 "cells": [
  {
   "cell_type": "code",
   "execution_count": 84,
   "id": "e386b993",
   "metadata": {},
   "outputs": [
    {
     "name": "stdout",
     "output_type": "stream",
     "text": [
      "Collecting sklearn\n",
      "  Downloading sklearn-0.0.tar.gz (1.1 kB)\n",
      "Collecting scikit-learn\n",
      "  Downloading scikit_learn-1.0.2-cp37-cp37m-macosx_10_13_x86_64.whl (7.8 MB)\n",
      "\u001b[K     |████████████████████████████████| 7.8 MB 5.5 MB/s eta 0:00:01\n",
      "\u001b[?25hRequirement already satisfied: joblib>=0.11 in /Library/Frameworks/Python.framework/Versions/3.7/lib/python3.7/site-packages (from scikit-learn->sklearn) (0.17.0)\n",
      "Requirement already satisfied: numpy>=1.14.6 in /Library/Frameworks/Python.framework/Versions/3.7/lib/python3.7/site-packages (from scikit-learn->sklearn) (1.21.0)\n",
      "Requirement already satisfied: scipy>=1.1.0 in /Library/Frameworks/Python.framework/Versions/3.7/lib/python3.7/site-packages (from scikit-learn->sklearn) (1.7.3)\n",
      "Collecting threadpoolctl>=2.0.0\n",
      "  Downloading threadpoolctl-3.1.0-py3-none-any.whl (14 kB)\n",
      "Building wheels for collected packages: sklearn\n",
      "  Building wheel for sklearn (setup.py) ... \u001b[?25ldone\n",
      "\u001b[?25h  Created wheel for sklearn: filename=sklearn-0.0-py2.py3-none-any.whl size=1315 sha256=6564d603f3a9b151fdf95b0a559902ed37ecd11eff31fd5a6000cb4fac1b712d\n",
      "  Stored in directory: /Users/pattarathon/Library/Caches/pip/wheels/46/ef/c3/157e41f5ee1372d1be90b09f74f82b10e391eaacca8f22d33e\n",
      "Successfully built sklearn\n",
      "Installing collected packages: threadpoolctl, scikit-learn, sklearn\n",
      "Successfully installed scikit-learn-1.0.2 sklearn-0.0 threadpoolctl-3.1.0\n",
      "\u001b[33mWARNING: You are using pip version 21.2.2; however, version 22.0.2 is available.\n",
      "You should consider upgrading via the '/Library/Frameworks/Python.framework/Versions/3.7/bin/python3.7 -m pip install --upgrade pip' command.\u001b[0m\n",
      "Note: you may need to restart the kernel to use updated packages.\n"
     ]
    }
   ],
   "source": [
    "pip install sklearn"
   ]
  },
  {
   "cell_type": "code",
   "execution_count": 2,
   "id": "c252cf35",
   "metadata": {},
   "outputs": [],
   "source": [
    "import pandas as pd\n",
    "import numpy as np\n",
    "import sklearn\n",
    "import math"
   ]
  },
  {
   "cell_type": "code",
   "execution_count": 3,
   "id": "daf52bcc",
   "metadata": {},
   "outputs": [],
   "source": [
    "restaurants = pd.read_csv('./data/TA_restaurants_curated.csv', engine='python');\n",
    "restaurants = restaurants.drop(columns = ['ID_TA', 'Ranking', 'Unnamed: 0'])\n",
    "features = restaurants.columns.values"
   ]
  },
  {
   "cell_type": "code",
   "execution_count": 4,
   "id": "8cf4368f",
   "metadata": {},
   "outputs": [],
   "source": [
    "price = restaurants['Price Range']"
   ]
  },
  {
   "cell_type": "code",
   "execution_count": 5,
   "id": "bd68b9f2",
   "metadata": {},
   "outputs": [],
   "source": [
    "restaurants['Price Range'] = restaurants['Price Range'].replace('$$$$', 3)\n",
    "restaurants['Price Range'] = restaurants['Price Range'].replace('$$ - $$$', 2)\n",
    "restaurants['Price Range'] = restaurants['Price Range'].replace('$', 1)"
   ]
  },
  {
   "cell_type": "code",
   "execution_count": 6,
   "id": "7eb2d8c7",
   "metadata": {},
   "outputs": [
    {
     "data": {
      "text/html": [
       "<div>\n",
       "<style scoped>\n",
       "    .dataframe tbody tr th:only-of-type {\n",
       "        vertical-align: middle;\n",
       "    }\n",
       "\n",
       "    .dataframe tbody tr th {\n",
       "        vertical-align: top;\n",
       "    }\n",
       "\n",
       "    .dataframe thead th {\n",
       "        text-align: right;\n",
       "    }\n",
       "</style>\n",
       "<table border=\"1\" class=\"dataframe\">\n",
       "  <thead>\n",
       "    <tr style=\"text-align: right;\">\n",
       "      <th></th>\n",
       "      <th>Name</th>\n",
       "      <th>City</th>\n",
       "      <th>Cuisine Style</th>\n",
       "      <th>Rating</th>\n",
       "      <th>Price Range</th>\n",
       "      <th>Number of Reviews</th>\n",
       "      <th>Reviews</th>\n",
       "      <th>URL_TA</th>\n",
       "    </tr>\n",
       "  </thead>\n",
       "  <tbody>\n",
       "    <tr>\n",
       "      <th>0</th>\n",
       "      <td>Martine of Martine's Table</td>\n",
       "      <td>Amsterdam</td>\n",
       "      <td>['French', 'Dutch', 'European']</td>\n",
       "      <td>5.0</td>\n",
       "      <td>2.0</td>\n",
       "      <td>136.0</td>\n",
       "      <td>[['Just like home', 'A Warm Welcome to Wintry ...</td>\n",
       "      <td>/Restaurant_Review-g188590-d11752080-Reviews-M...</td>\n",
       "    </tr>\n",
       "    <tr>\n",
       "      <th>1</th>\n",
       "      <td>De Silveren Spiegel</td>\n",
       "      <td>Amsterdam</td>\n",
       "      <td>['Dutch', 'European', 'Vegetarian Friendly', '...</td>\n",
       "      <td>4.5</td>\n",
       "      <td>3.0</td>\n",
       "      <td>812.0</td>\n",
       "      <td>[['Great food and staff', 'just perfect'], ['0...</td>\n",
       "      <td>/Restaurant_Review-g188590-d693419-Reviews-De_...</td>\n",
       "    </tr>\n",
       "    <tr>\n",
       "      <th>2</th>\n",
       "      <td>La Rive</td>\n",
       "      <td>Amsterdam</td>\n",
       "      <td>['Mediterranean', 'French', 'International', '...</td>\n",
       "      <td>4.5</td>\n",
       "      <td>3.0</td>\n",
       "      <td>567.0</td>\n",
       "      <td>[['Satisfaction', 'Delicious old school restau...</td>\n",
       "      <td>/Restaurant_Review-g188590-d696959-Reviews-La_...</td>\n",
       "    </tr>\n",
       "    <tr>\n",
       "      <th>3</th>\n",
       "      <td>Vinkeles</td>\n",
       "      <td>Amsterdam</td>\n",
       "      <td>['French', 'European', 'International', 'Conte...</td>\n",
       "      <td>5.0</td>\n",
       "      <td>3.0</td>\n",
       "      <td>564.0</td>\n",
       "      <td>[['True five star dinner', 'A superb evening o...</td>\n",
       "      <td>/Restaurant_Review-g188590-d1239229-Reviews-Vi...</td>\n",
       "    </tr>\n",
       "    <tr>\n",
       "      <th>4</th>\n",
       "      <td>Librije's Zusje Amsterdam</td>\n",
       "      <td>Amsterdam</td>\n",
       "      <td>['Dutch', 'European', 'International', 'Vegeta...</td>\n",
       "      <td>4.5</td>\n",
       "      <td>3.0</td>\n",
       "      <td>316.0</td>\n",
       "      <td>[['Best meal.... EVER', 'super food experience...</td>\n",
       "      <td>/Restaurant_Review-g188590-d6864170-Reviews-Li...</td>\n",
       "    </tr>\n",
       "  </tbody>\n",
       "</table>\n",
       "</div>"
      ],
      "text/plain": [
       "                         Name       City  \\\n",
       "0  Martine of Martine's Table  Amsterdam   \n",
       "1         De Silveren Spiegel  Amsterdam   \n",
       "2                     La Rive  Amsterdam   \n",
       "3                    Vinkeles  Amsterdam   \n",
       "4   Librije's Zusje Amsterdam  Amsterdam   \n",
       "\n",
       "                                       Cuisine Style  Rating  Price Range  \\\n",
       "0                    ['French', 'Dutch', 'European']     5.0          2.0   \n",
       "1  ['Dutch', 'European', 'Vegetarian Friendly', '...     4.5          3.0   \n",
       "2  ['Mediterranean', 'French', 'International', '...     4.5          3.0   \n",
       "3  ['French', 'European', 'International', 'Conte...     5.0          3.0   \n",
       "4  ['Dutch', 'European', 'International', 'Vegeta...     4.5          3.0   \n",
       "\n",
       "   Number of Reviews                                            Reviews  \\\n",
       "0              136.0  [['Just like home', 'A Warm Welcome to Wintry ...   \n",
       "1              812.0  [['Great food and staff', 'just perfect'], ['0...   \n",
       "2              567.0  [['Satisfaction', 'Delicious old school restau...   \n",
       "3              564.0  [['True five star dinner', 'A superb evening o...   \n",
       "4              316.0  [['Best meal.... EVER', 'super food experience...   \n",
       "\n",
       "                                              URL_TA  \n",
       "0  /Restaurant_Review-g188590-d11752080-Reviews-M...  \n",
       "1  /Restaurant_Review-g188590-d693419-Reviews-De_...  \n",
       "2  /Restaurant_Review-g188590-d696959-Reviews-La_...  \n",
       "3  /Restaurant_Review-g188590-d1239229-Reviews-Vi...  \n",
       "4  /Restaurant_Review-g188590-d6864170-Reviews-Li...  "
      ]
     },
     "execution_count": 6,
     "metadata": {},
     "output_type": "execute_result"
    }
   ],
   "source": [
    "restaurants.head()"
   ]
  },
  {
   "cell_type": "code",
   "execution_count": 7,
   "id": "eebda0f3",
   "metadata": {},
   "outputs": [],
   "source": [
    "cities = restaurants['City'].unique()"
   ]
  },
  {
   "cell_type": "code",
   "execution_count": 8,
   "id": "572fe97f",
   "metadata": {},
   "outputs": [
    {
     "data": {
      "text/plain": [
       "array(['Amsterdam', 'Athens', 'Barcelona', 'Berlin', 'Bratislava',\n",
       "       'Brussels', 'Budapest', 'Copenhagen', 'Dublin', 'Edinburgh',\n",
       "       'Geneva', 'Hamburg', 'Helsinki', 'Krakow', 'Lisbon', 'Ljubljana',\n",
       "       'London', 'Luxembourg', 'Lyon', 'Madrid', 'Milan', 'Munich',\n",
       "       'Oporto', 'Oslo', 'Paris', 'Prague', 'Rome', 'Stockholm', 'Vienna',\n",
       "       'Warsaw', 'Zurich'], dtype=object)"
      ]
     },
     "execution_count": 8,
     "metadata": {},
     "output_type": "execute_result"
    }
   ],
   "source": [
    "cities"
   ]
  },
  {
   "cell_type": "code",
   "execution_count": 9,
   "id": "19a41c8e",
   "metadata": {},
   "outputs": [
    {
     "name": "stdout",
     "output_type": "stream",
     "text": [
      "(18212, 8) ['Name' 'City' 'Cuisine Style' 'Rating' 'Price Range' 'Number of Reviews'\n",
      " 'Reviews' 'URL_TA']\n"
     ]
    }
   ],
   "source": [
    "London = restaurants.loc[restaurants['City'] == 'London']\n",
    "print(London.shape, London.columns.values)"
   ]
  },
  {
   "cell_type": "code",
   "execution_count": 10,
   "id": "4c5d1549",
   "metadata": {},
   "outputs": [],
   "source": [
    "LdnData = London.drop(columns = ['City', 'URL_TA'])"
   ]
  },
  {
   "cell_type": "code",
   "execution_count": 11,
   "id": "9fde8f35",
   "metadata": {},
   "outputs": [],
   "source": [
    "LdnData = LdnData.sort_values(by=['Price Range', 'Number of Reviews'], ascending=False);"
   ]
  },
  {
   "cell_type": "code",
   "execution_count": 12,
   "id": "4799b8f1",
   "metadata": {},
   "outputs": [
    {
     "data": {
      "text/html": [
       "<div>\n",
       "<style scoped>\n",
       "    .dataframe tbody tr th:only-of-type {\n",
       "        vertical-align: middle;\n",
       "    }\n",
       "\n",
       "    .dataframe tbody tr th {\n",
       "        vertical-align: top;\n",
       "    }\n",
       "\n",
       "    .dataframe thead th {\n",
       "        text-align: right;\n",
       "    }\n",
       "</style>\n",
       "<table border=\"1\" class=\"dataframe\">\n",
       "  <thead>\n",
       "    <tr style=\"text-align: right;\">\n",
       "      <th></th>\n",
       "      <th>Name</th>\n",
       "      <th>Cuisine Style</th>\n",
       "      <th>Rating</th>\n",
       "      <th>Price Range</th>\n",
       "      <th>Number of Reviews</th>\n",
       "      <th>Reviews</th>\n",
       "    </tr>\n",
       "  </thead>\n",
       "  <tbody>\n",
       "    <tr>\n",
       "      <th>46329</th>\n",
       "      <td>Aqua Shard</td>\n",
       "      <td>['European', 'British', 'Contemporary', 'Veget...</td>\n",
       "      <td>4.0</td>\n",
       "      <td>3.0</td>\n",
       "      <td>12910.0</td>\n",
       "      <td>[['Lunch at the Aqua', 'Elegant and vibrant re...</td>\n",
       "    </tr>\n",
       "    <tr>\n",
       "      <th>45955</th>\n",
       "      <td>London Steakhouse Co.</td>\n",
       "      <td>['British', 'Vegetarian Friendly', 'Gluten Fre...</td>\n",
       "      <td>4.0</td>\n",
       "      <td>3.0</td>\n",
       "      <td>9660.0</td>\n",
       "      <td>[['Lovely setting and decent food', 'A Christm...</td>\n",
       "    </tr>\n",
       "    <tr>\n",
       "      <th>45945</th>\n",
       "      <td>Oxo Tower Restaurant, Bar and Brasserie</td>\n",
       "      <td>['British', 'Vegetarian Friendly', 'Vegan Opti...</td>\n",
       "      <td>4.5</td>\n",
       "      <td>3.0</td>\n",
       "      <td>7794.0</td>\n",
       "      <td>[['British Cuisine at its best!', 'Beautiful v...</td>\n",
       "    </tr>\n",
       "    <tr>\n",
       "      <th>46020</th>\n",
       "      <td>The Wolseley</td>\n",
       "      <td>['European', 'British', 'Vegetarian Friendly',...</td>\n",
       "      <td>4.0</td>\n",
       "      <td>3.0</td>\n",
       "      <td>6275.0</td>\n",
       "      <td>[['A nice way to spend an afternoon', 'The Wos...</td>\n",
       "    </tr>\n",
       "    <tr>\n",
       "      <th>46139</th>\n",
       "      <td>Hutong</td>\n",
       "      <td>['Chinese', 'Asian', 'Vegetarian Friendly', 'V...</td>\n",
       "      <td>4.0</td>\n",
       "      <td>3.0</td>\n",
       "      <td>5216.0</td>\n",
       "      <td>[['You go for the view and are surprised by t....</td>\n",
       "    </tr>\n",
       "  </tbody>\n",
       "</table>\n",
       "</div>"
      ],
      "text/plain": [
       "                                          Name  \\\n",
       "46329                               Aqua Shard   \n",
       "45955                    London Steakhouse Co.   \n",
       "45945  Oxo Tower Restaurant, Bar and Brasserie   \n",
       "46020                             The Wolseley   \n",
       "46139                                   Hutong   \n",
       "\n",
       "                                           Cuisine Style  Rating  Price Range  \\\n",
       "46329  ['European', 'British', 'Contemporary', 'Veget...     4.0          3.0   \n",
       "45955  ['British', 'Vegetarian Friendly', 'Gluten Fre...     4.0          3.0   \n",
       "45945  ['British', 'Vegetarian Friendly', 'Vegan Opti...     4.5          3.0   \n",
       "46020  ['European', 'British', 'Vegetarian Friendly',...     4.0          3.0   \n",
       "46139  ['Chinese', 'Asian', 'Vegetarian Friendly', 'V...     4.0          3.0   \n",
       "\n",
       "       Number of Reviews                                            Reviews  \n",
       "46329            12910.0  [['Lunch at the Aqua', 'Elegant and vibrant re...  \n",
       "45955             9660.0  [['Lovely setting and decent food', 'A Christm...  \n",
       "45945             7794.0  [['British Cuisine at its best!', 'Beautiful v...  \n",
       "46020             6275.0  [['A nice way to spend an afternoon', 'The Wos...  \n",
       "46139             5216.0  [['You go for the view and are surprised by t....  "
      ]
     },
     "execution_count": 12,
     "metadata": {},
     "output_type": "execute_result"
    }
   ],
   "source": [
    "LdnData.head()"
   ]
  },
  {
   "cell_type": "code",
   "execution_count": 151,
   "id": "20f6037d",
   "metadata": {},
   "outputs": [
    {
     "data": {
      "text/plain": [
       "(18212, 6)"
      ]
     },
     "execution_count": 151,
     "metadata": {},
     "output_type": "execute_result"
    }
   ],
   "source": [
    "LdnData.shape"
   ]
  },
  {
   "cell_type": "code",
   "execution_count": 152,
   "id": "4847b9bb",
   "metadata": {},
   "outputs": [],
   "source": [
    "style = LdnData['Cuisine Style']"
   ]
  },
  {
   "cell_type": "code",
   "execution_count": 163,
   "id": "2f2ea27d",
   "metadata": {},
   "outputs": [],
   "source": [
    "LdnFeatures = LdnData.drop(columns = ['Number of Reviews'])"
   ]
  },
  {
   "cell_type": "code",
   "execution_count": 164,
   "id": "19bc6b7e",
   "metadata": {},
   "outputs": [
    {
     "data": {
      "text/plain": [
       "\"[['Lunch at the Aqua', 'Elegant and vibrant restaurant'], ['01/08/2018', '01/08/2018']]\""
      ]
     },
     "execution_count": 164,
     "metadata": {},
     "output_type": "execute_result"
    }
   ],
   "source": [
    "LdnFeatures['Reviews'].iloc[0]"
   ]
  },
  {
   "cell_type": "code",
   "execution_count": 155,
   "id": "07b51366",
   "metadata": {},
   "outputs": [
    {
     "name": "stderr",
     "output_type": "stream",
     "text": [
      "/Library/Frameworks/Python.framework/Versions/3.7/lib/python3.7/site-packages/ipykernel_launcher.py:3: FutureWarning: The default value of regex will change from True to False in a future version. In addition, single character regular expressions will *not* be treated as literal strings when regex=True.\n",
      "  This is separate from the ipykernel package so we can avoid doing imports until\n",
      "/Library/Frameworks/Python.framework/Versions/3.7/lib/python3.7/site-packages/ipykernel_launcher.py:4: FutureWarning: The default value of regex will change from True to False in a future version. In addition, single character regular expressions will *not* be treated as literal strings when regex=True.\n",
      "  after removing the cwd from sys.path.\n"
     ]
    }
   ],
   "source": [
    "#Change Reviews to String\n",
    "LdnFeatures['Reviews'] = LdnFeatures['Reviews'].str.replace('\"', '')\n",
    "LdnFeatures['Reviews'] = LdnFeatures['Reviews'].str.replace(']', '')\n",
    "LdnFeatures['Reviews'] = LdnFeatures['Reviews'].str.replace('[', '')\n",
    "LdnFeatures['Reviews'] = LdnFeatures['Reviews'].str.replace('\\'', '')"
   ]
  },
  {
   "cell_type": "code",
   "execution_count": 156,
   "id": "3c025d2e",
   "metadata": {},
   "outputs": [],
   "source": [
    "#Split into array per word\n",
    "LdnFeatures['Reviews'] = LdnFeatures['Reviews'].str.split()"
   ]
  },
  {
   "cell_type": "code",
   "execution_count": 157,
   "id": "e1412aad",
   "metadata": {},
   "outputs": [
    {
     "data": {
      "text/html": [
       "<div>\n",
       "<style scoped>\n",
       "    .dataframe tbody tr th:only-of-type {\n",
       "        vertical-align: middle;\n",
       "    }\n",
       "\n",
       "    .dataframe tbody tr th {\n",
       "        vertical-align: top;\n",
       "    }\n",
       "\n",
       "    .dataframe thead th {\n",
       "        text-align: right;\n",
       "    }\n",
       "</style>\n",
       "<table border=\"1\" class=\"dataframe\">\n",
       "  <thead>\n",
       "    <tr style=\"text-align: right;\">\n",
       "      <th></th>\n",
       "      <th>Name</th>\n",
       "      <th>Cuisine Style</th>\n",
       "      <th>Rating</th>\n",
       "      <th>Price Range</th>\n",
       "      <th>Reviews</th>\n",
       "    </tr>\n",
       "  </thead>\n",
       "  <tbody>\n",
       "    <tr>\n",
       "      <th>46329</th>\n",
       "      <td>Aqua Shard</td>\n",
       "      <td>['European', 'British', 'Contemporary', 'Veget...</td>\n",
       "      <td>4.0</td>\n",
       "      <td>3.0</td>\n",
       "      <td>[Lunch, at, the, Aqua,, Elegant, and, vibrant,...</td>\n",
       "    </tr>\n",
       "    <tr>\n",
       "      <th>45955</th>\n",
       "      <td>London Steakhouse Co.</td>\n",
       "      <td>['British', 'Vegetarian Friendly', 'Gluten Fre...</td>\n",
       "      <td>4.0</td>\n",
       "      <td>3.0</td>\n",
       "      <td>[Lovely, setting, and, decent, food,, A, Chris...</td>\n",
       "    </tr>\n",
       "    <tr>\n",
       "      <th>45945</th>\n",
       "      <td>Oxo Tower Restaurant, Bar and Brasserie</td>\n",
       "      <td>['British', 'Vegetarian Friendly', 'Vegan Opti...</td>\n",
       "      <td>4.5</td>\n",
       "      <td>3.0</td>\n",
       "      <td>[British, Cuisine, at, its, best!,, Beautiful,...</td>\n",
       "    </tr>\n",
       "    <tr>\n",
       "      <th>46020</th>\n",
       "      <td>The Wolseley</td>\n",
       "      <td>['European', 'British', 'Vegetarian Friendly',...</td>\n",
       "      <td>4.0</td>\n",
       "      <td>3.0</td>\n",
       "      <td>[A, nice, way, to, spend, an, afternoon,, The,...</td>\n",
       "    </tr>\n",
       "    <tr>\n",
       "      <th>46139</th>\n",
       "      <td>Hutong</td>\n",
       "      <td>['Chinese', 'Asian', 'Vegetarian Friendly', 'V...</td>\n",
       "      <td>4.0</td>\n",
       "      <td>3.0</td>\n",
       "      <td>[You, go, for, the, view, and, are, surprised,...</td>\n",
       "    </tr>\n",
       "  </tbody>\n",
       "</table>\n",
       "</div>"
      ],
      "text/plain": [
       "                                          Name  \\\n",
       "46329                               Aqua Shard   \n",
       "45955                    London Steakhouse Co.   \n",
       "45945  Oxo Tower Restaurant, Bar and Brasserie   \n",
       "46020                             The Wolseley   \n",
       "46139                                   Hutong   \n",
       "\n",
       "                                           Cuisine Style  Rating  Price Range  \\\n",
       "46329  ['European', 'British', 'Contemporary', 'Veget...     4.0          3.0   \n",
       "45955  ['British', 'Vegetarian Friendly', 'Gluten Fre...     4.0          3.0   \n",
       "45945  ['British', 'Vegetarian Friendly', 'Vegan Opti...     4.5          3.0   \n",
       "46020  ['European', 'British', 'Vegetarian Friendly',...     4.0          3.0   \n",
       "46139  ['Chinese', 'Asian', 'Vegetarian Friendly', 'V...     4.0          3.0   \n",
       "\n",
       "                                                 Reviews  \n",
       "46329  [Lunch, at, the, Aqua,, Elegant, and, vibrant,...  \n",
       "45955  [Lovely, setting, and, decent, food,, A, Chris...  \n",
       "45945  [British, Cuisine, at, its, best!,, Beautiful,...  \n",
       "46020  [A, nice, way, to, spend, an, afternoon,, The,...  \n",
       "46139  [You, go, for, the, view, and, are, surprised,...  "
      ]
     },
     "execution_count": 157,
     "metadata": {},
     "output_type": "execute_result"
    }
   ],
   "source": [
    "LdnFeatures.head()"
   ]
  },
  {
   "cell_type": "code",
   "execution_count": 165,
   "id": "1d110522",
   "metadata": {},
   "outputs": [],
   "source": [
    "len(LdnFeatures)\n",
    "LdnFeatures = LdnFeatures.reset_index()\n"
   ]
  },
  {
   "cell_type": "code",
   "execution_count": 166,
   "id": "7b2149e4",
   "metadata": {},
   "outputs": [],
   "source": [
    "LdnFeatures = LdnFeatures.drop(columns = ['index'])\n"
   ]
  },
  {
   "cell_type": "code",
   "execution_count": 144,
   "id": "1a92b9d6",
   "metadata": {},
   "outputs": [],
   "source": [
    "from sklearn.feature_extraction.text import TfidfVectorizer"
   ]
  },
  {
   "cell_type": "code",
   "execution_count": 180,
   "id": "9a5453b2",
   "metadata": {},
   "outputs": [],
   "source": [
    "tfv = TfidfVectorizer(min_df = 3,  max_features = None, strip_accents='unicode', \n",
    "                          analyzer='word', ngram_range=(1, 3),\n",
    "                          stop_words = 'english'\n",
    "                         )\n",
    "LdnFeatures['Reviews'] = LdnFeatures['Reviews'].fillna('')\n",
    "LdnFeatures['Cuisine Style'] = LdnFeatures['Cuisine Style'].fillna('')"
   ]
  },
  {
   "cell_type": "code",
   "execution_count": 168,
   "id": "284f9aab",
   "metadata": {},
   "outputs": [
    {
     "data": {
      "text/html": [
       "<div>\n",
       "<style scoped>\n",
       "    .dataframe tbody tr th:only-of-type {\n",
       "        vertical-align: middle;\n",
       "    }\n",
       "\n",
       "    .dataframe tbody tr th {\n",
       "        vertical-align: top;\n",
       "    }\n",
       "\n",
       "    .dataframe thead th {\n",
       "        text-align: right;\n",
       "    }\n",
       "</style>\n",
       "<table border=\"1\" class=\"dataframe\">\n",
       "  <thead>\n",
       "    <tr style=\"text-align: right;\">\n",
       "      <th></th>\n",
       "      <th>Name</th>\n",
       "      <th>Cuisine Style</th>\n",
       "      <th>Rating</th>\n",
       "      <th>Price Range</th>\n",
       "      <th>Reviews</th>\n",
       "    </tr>\n",
       "  </thead>\n",
       "  <tbody>\n",
       "    <tr>\n",
       "      <th>0</th>\n",
       "      <td>Aqua Shard</td>\n",
       "      <td>['European', 'British', 'Contemporary', 'Veget...</td>\n",
       "      <td>4.0</td>\n",
       "      <td>3.0</td>\n",
       "      <td>[['Lunch at the Aqua', 'Elegant and vibrant re...</td>\n",
       "    </tr>\n",
       "    <tr>\n",
       "      <th>1</th>\n",
       "      <td>London Steakhouse Co.</td>\n",
       "      <td>['British', 'Vegetarian Friendly', 'Gluten Fre...</td>\n",
       "      <td>4.0</td>\n",
       "      <td>3.0</td>\n",
       "      <td>[['Lovely setting and decent food', 'A Christm...</td>\n",
       "    </tr>\n",
       "    <tr>\n",
       "      <th>2</th>\n",
       "      <td>Oxo Tower Restaurant, Bar and Brasserie</td>\n",
       "      <td>['British', 'Vegetarian Friendly', 'Vegan Opti...</td>\n",
       "      <td>4.5</td>\n",
       "      <td>3.0</td>\n",
       "      <td>[['British Cuisine at its best!', 'Beautiful v...</td>\n",
       "    </tr>\n",
       "    <tr>\n",
       "      <th>3</th>\n",
       "      <td>The Wolseley</td>\n",
       "      <td>['European', 'British', 'Vegetarian Friendly',...</td>\n",
       "      <td>4.0</td>\n",
       "      <td>3.0</td>\n",
       "      <td>[['A nice way to spend an afternoon', 'The Wos...</td>\n",
       "    </tr>\n",
       "    <tr>\n",
       "      <th>4</th>\n",
       "      <td>Hutong</td>\n",
       "      <td>['Chinese', 'Asian', 'Vegetarian Friendly', 'V...</td>\n",
       "      <td>4.0</td>\n",
       "      <td>3.0</td>\n",
       "      <td>[['You go for the view and are surprised by t....</td>\n",
       "    </tr>\n",
       "  </tbody>\n",
       "</table>\n",
       "</div>"
      ],
      "text/plain": [
       "                                      Name  \\\n",
       "0                               Aqua Shard   \n",
       "1                    London Steakhouse Co.   \n",
       "2  Oxo Tower Restaurant, Bar and Brasserie   \n",
       "3                             The Wolseley   \n",
       "4                                   Hutong   \n",
       "\n",
       "                                       Cuisine Style  Rating  Price Range  \\\n",
       "0  ['European', 'British', 'Contemporary', 'Veget...     4.0          3.0   \n",
       "1  ['British', 'Vegetarian Friendly', 'Gluten Fre...     4.0          3.0   \n",
       "2  ['British', 'Vegetarian Friendly', 'Vegan Opti...     4.5          3.0   \n",
       "3  ['European', 'British', 'Vegetarian Friendly',...     4.0          3.0   \n",
       "4  ['Chinese', 'Asian', 'Vegetarian Friendly', 'V...     4.0          3.0   \n",
       "\n",
       "                                             Reviews  \n",
       "0  [['Lunch at the Aqua', 'Elegant and vibrant re...  \n",
       "1  [['Lovely setting and decent food', 'A Christm...  \n",
       "2  [['British Cuisine at its best!', 'Beautiful v...  \n",
       "3  [['A nice way to spend an afternoon', 'The Wos...  \n",
       "4  [['You go for the view and are surprised by t....  "
      ]
     },
     "execution_count": 168,
     "metadata": {},
     "output_type": "execute_result"
    }
   ],
   "source": [
    "LdnFeatures.head()"
   ]
  },
  {
   "cell_type": "code",
   "execution_count": 169,
   "id": "2408247a",
   "metadata": {},
   "outputs": [],
   "source": [
    "X = tfv.fit_transform(LdnFeatures['Reviews'])"
   ]
  },
  {
   "cell_type": "code",
   "execution_count": 181,
   "id": "91afca37",
   "metadata": {},
   "outputs": [],
   "source": [
    "Y = tfv.fit_transform(LdnFeatures['Cuisine Style'])"
   ]
  },
  {
   "cell_type": "code",
   "execution_count": 170,
   "id": "f6db65d6",
   "metadata": {},
   "outputs": [],
   "source": [
    "from sklearn.metrics.pairwise import sigmoid_kernel\n",
    "#For review\n",
    "sig = sigmoid_kernel(X, X)"
   ]
  },
  {
   "cell_type": "code",
   "execution_count": 182,
   "id": "6cee2644",
   "metadata": {},
   "outputs": [],
   "source": [
    "#For Cuisine Style\n",
    "sig2 = sigmoid_kernel(Y, Y)"
   ]
  },
  {
   "cell_type": "code",
   "execution_count": 171,
   "id": "4f4424c0",
   "metadata": {},
   "outputs": [
    {
     "data": {
      "text/plain": [
       "array([0.76162893, 0.76160611, 0.7616056 , ..., 0.76159416, 0.76159416,\n",
       "       0.76159416])"
      ]
     },
     "execution_count": 171,
     "metadata": {},
     "output_type": "execute_result"
    }
   ],
   "source": [
    "sig[0]"
   ]
  },
  {
   "cell_type": "code",
   "execution_count": 172,
   "id": "e6d6e2d7",
   "metadata": {},
   "outputs": [],
   "source": [
    "indices = pd.Series(LdnFeatures.index, index=LdnFeatures['Name']).drop_duplicates()"
   ]
  },
  {
   "cell_type": "code",
   "execution_count": 173,
   "id": "030feecd",
   "metadata": {},
   "outputs": [
    {
     "data": {
      "text/plain": [
       "Name\n",
       "Aqua Shard                                     0\n",
       "London Steakhouse Co.                          1\n",
       "Oxo Tower Restaurant, Bar and Brasserie        2\n",
       "The Wolseley                                   3\n",
       "Hutong                                         4\n",
       "                                           ...  \n",
       "Aguavit                                    18207\n",
       "Carluccio's - High Street Kensington       18208\n",
       "North & Ten                                18209\n",
       "Shafran                                    18210\n",
       "Mamak Don                                  18211\n",
       "Length: 18212, dtype: int64"
      ]
     },
     "execution_count": 173,
     "metadata": {},
     "output_type": "execute_result"
    }
   ],
   "source": [
    "indices"
   ]
  },
  {
   "cell_type": "code",
   "execution_count": 174,
   "id": "e642ea6c",
   "metadata": {},
   "outputs": [
    {
     "data": {
      "text/plain": [
       "0"
      ]
     },
     "execution_count": 174,
     "metadata": {},
     "output_type": "execute_result"
    }
   ],
   "source": [
    "indices['Aqua Shard']"
   ]
  },
  {
   "cell_type": "code",
   "execution_count": 200,
   "id": "7833916e",
   "metadata": {},
   "outputs": [],
   "source": [
    "def give_rec(title, sig=sig, sig2=sig2):\n",
    "    idx = indices[title]\n",
    "    \n",
    "    sig_scores1 = list(enumerate(sig[idx]))\n",
    "    \n",
    "    sig_scores2 = list(enumerate(sig2[idx]))\n",
    "    \n",
    "    print(sig_scores1[1].apply(lambda x: x*0.6))\n",
    "    \n",
    "    sig_scores = (sig_scores2[0] * 0.6) + (sig_scores1[0] * 0.4)\n",
    "    sig_scores = sorted(sig_scores, key=lambda x: x[1], reverse=True)\n",
    "    \n",
    "    sig_scores = sig_scores[1:11]\n",
    "    \n",
    "    res_indices = [i[0] for i in sig_scores]\n",
    "    \n",
    "    return LdnFeatures['Name'].iloc[res_indices]"
   ]
  },
  {
   "cell_type": "code",
   "execution_count": 201,
   "id": "54698548",
   "metadata": {},
   "outputs": [
    {
     "ename": "AttributeError",
     "evalue": "'tuple' object has no attribute 'apply'",
     "output_type": "error",
     "traceback": [
      "\u001b[0;31m---------------------------------------------------------------------------\u001b[0m",
      "\u001b[0;31mAttributeError\u001b[0m                            Traceback (most recent call last)",
      "\u001b[0;32m/var/folders/r7/mfkfkm996r5gbzbk98qnp5r00000gn/T/ipykernel_21362/548730087.py\u001b[0m in \u001b[0;36m<module>\u001b[0;34m\u001b[0m\n\u001b[0;32m----> 1\u001b[0;31m \u001b[0mgive_rec\u001b[0m\u001b[0;34m(\u001b[0m\u001b[0;34m'Hutong'\u001b[0m\u001b[0;34m)\u001b[0m\u001b[0;34m\u001b[0m\u001b[0;34m\u001b[0m\u001b[0m\n\u001b[0m",
      "\u001b[0;32m/var/folders/r7/mfkfkm996r5gbzbk98qnp5r00000gn/T/ipykernel_21362/3148709992.py\u001b[0m in \u001b[0;36mgive_rec\u001b[0;34m(title, sig, sig2)\u001b[0m\n\u001b[1;32m      6\u001b[0m     \u001b[0msig_scores2\u001b[0m \u001b[0;34m=\u001b[0m \u001b[0mlist\u001b[0m\u001b[0;34m(\u001b[0m\u001b[0menumerate\u001b[0m\u001b[0;34m(\u001b[0m\u001b[0msig2\u001b[0m\u001b[0;34m[\u001b[0m\u001b[0midx\u001b[0m\u001b[0;34m]\u001b[0m\u001b[0;34m)\u001b[0m\u001b[0;34m)\u001b[0m\u001b[0;34m\u001b[0m\u001b[0;34m\u001b[0m\u001b[0m\n\u001b[1;32m      7\u001b[0m \u001b[0;34m\u001b[0m\u001b[0m\n\u001b[0;32m----> 8\u001b[0;31m     \u001b[0mprint\u001b[0m\u001b[0;34m(\u001b[0m\u001b[0msig_scores1\u001b[0m\u001b[0;34m[\u001b[0m\u001b[0;36m1\u001b[0m\u001b[0;34m]\u001b[0m\u001b[0;34m.\u001b[0m\u001b[0mapply\u001b[0m\u001b[0;34m(\u001b[0m\u001b[0;32mlambda\u001b[0m \u001b[0mx\u001b[0m\u001b[0;34m:\u001b[0m \u001b[0mx\u001b[0m\u001b[0;34m*\u001b[0m\u001b[0;36m0.6\u001b[0m\u001b[0;34m)\u001b[0m\u001b[0;34m)\u001b[0m\u001b[0;34m\u001b[0m\u001b[0;34m\u001b[0m\u001b[0m\n\u001b[0m\u001b[1;32m      9\u001b[0m \u001b[0;34m\u001b[0m\u001b[0m\n\u001b[1;32m     10\u001b[0m     \u001b[0msig_scores\u001b[0m \u001b[0;34m=\u001b[0m \u001b[0;34m(\u001b[0m\u001b[0msig_scores2\u001b[0m\u001b[0;34m[\u001b[0m\u001b[0;36m0\u001b[0m\u001b[0;34m]\u001b[0m \u001b[0;34m*\u001b[0m \u001b[0;36m0.6\u001b[0m\u001b[0;34m)\u001b[0m \u001b[0;34m+\u001b[0m \u001b[0;34m(\u001b[0m\u001b[0msig_scores1\u001b[0m\u001b[0;34m[\u001b[0m\u001b[0;36m0\u001b[0m\u001b[0;34m]\u001b[0m \u001b[0;34m*\u001b[0m \u001b[0;36m0.4\u001b[0m\u001b[0;34m)\u001b[0m\u001b[0;34m\u001b[0m\u001b[0;34m\u001b[0m\u001b[0m\n",
      "\u001b[0;31mAttributeError\u001b[0m: 'tuple' object has no attribute 'apply'"
     ]
    }
   ],
   "source": [
    "give_rec('Hutong')"
   ]
  },
  {
   "cell_type": "code",
   "execution_count": null,
   "id": "6fbf7203",
   "metadata": {},
   "outputs": [],
   "source": []
  }
 ],
 "metadata": {
  "kernelspec": {
   "display_name": "Python 3 (ipykernel)",
   "language": "python",
   "name": "python3"
  },
  "language_info": {
   "codemirror_mode": {
    "name": "ipython",
    "version": 3
   },
   "file_extension": ".py",
   "mimetype": "text/x-python",
   "name": "python",
   "nbconvert_exporter": "python",
   "pygments_lexer": "ipython3",
   "version": "3.7.8"
  }
 },
 "nbformat": 4,
 "nbformat_minor": 5
}
